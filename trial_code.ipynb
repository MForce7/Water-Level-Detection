{
 "cells": [
  {
   "cell_type": "code",
   "execution_count": 1,
   "metadata": {},
   "outputs": [
    {
     "name": "stdout",
     "output_type": "stream",
     "text": [
      "Merekam audio...\n",
      "Rekaman selesai.\n",
      "Audio disimpan ke file: rekaman.wav\n"
     ]
    }
   ],
   "source": [
    "import pyaudio\n",
    "import wave\n",
    "\n",
    "def record_audio(filename=\"output.wav\", duration=5, sample_rate=44100, channels=2, chunk_size=1024):\n",
    "    \"\"\"\n",
    "    Merekam audio dan menyimpannya sebagai file WAV.\n",
    "\n",
    "    Parameters:\n",
    "    filename (str): Nama file untuk menyimpan rekaman audio.\n",
    "    duration (int): Durasi rekaman dalam detik.\n",
    "    sample_rate (int): Frekuensi sampel (default 44100 Hz).\n",
    "    channels (int): Jumlah channel audio (1 = mono, 2 = stereo).\n",
    "    chunk_size (int): Ukuran buffer audio.\n",
    "\n",
    "    \"\"\"\n",
    "    # Inisialisasi PyAudio\n",
    "    audio = pyaudio.PyAudio()\n",
    "\n",
    "    # Konfigurasi stream audio\n",
    "    stream = audio.open(format=pyaudio.paInt16,\n",
    "                        channels=channels,\n",
    "                        rate=sample_rate,\n",
    "                        input=True,\n",
    "                        frames_per_buffer=chunk_size)\n",
    "\n",
    "    print(\"Merekam audio...\")\n",
    "\n",
    "    frames = []\n",
    "\n",
    "    # Rekam audio selama durasi tertentu\n",
    "    for _ in range(0, int(sample_rate / chunk_size * duration)):\n",
    "        data = stream.read(chunk_size)\n",
    "        frames.append(data)\n",
    "\n",
    "    print(\"Rekaman selesai.\")\n",
    "\n",
    "    # Stop dan tutup stream\n",
    "    stream.stop_stream()\n",
    "    stream.close()\n",
    "    audio.terminate()\n",
    "\n",
    "    # Simpan data audio ke file WAV\n",
    "    with wave.open(filename, 'wb') as wf:\n",
    "        wf.setnchannels(channels)\n",
    "        wf.setsampwidth(audio.get_sample_size(pyaudio.paInt16))\n",
    "        wf.setframerate(sample_rate)\n",
    "        wf.writeframes(b''.join(frames))\n",
    "\n",
    "    print(f\"Audio disimpan ke file: {filename}\")\n",
    "\n",
    "# Contoh penggunaan\n",
    "record_audio(filename=\"rekaman.wav\", duration=10)\n"
   ]
  },
  {
   "cell_type": "code",
   "execution_count": 1,
   "metadata": {},
   "outputs": [
    {
     "ename": "SystemExit",
     "evalue": "0",
     "output_type": "error",
     "traceback": [
      "An exception has occurred, use %tb to see the full traceback.\n",
      "\u001b[1;31mSystemExit\u001b[0m\u001b[1;31m:\u001b[0m 0\n"
     ]
    },
    {
     "name": "stderr",
     "output_type": "stream",
     "text": [
      "c:\\Users\\sayid\\AppData\\Local\\Programs\\Python\\Python313\\Lib\\site-packages\\IPython\\core\\interactiveshell.py:3585: UserWarning: To exit: use 'exit', 'quit', or Ctrl-D.\n",
      "  warn(\"To exit: use 'exit', 'quit', or Ctrl-D.\", stacklevel=1)\n"
     ]
    }
   ],
   "source": [
    "import sys\n",
    "from PyQt5.QtWidgets import QApplication, QSlider, QLabel, QVBoxLayout, QWidget\n",
    "from PyQt5.QtCore import Qt\n",
    "\n",
    "class HorizontalSliderExample(QWidget):\n",
    "    def __init__(self):\n",
    "        super().__init__()\n",
    "        self.init_ui()\n",
    "\n",
    "    def init_ui(self):\n",
    "        # Layout utama\n",
    "        layout = QVBoxLayout()\n",
    "\n",
    "        # Label untuk menampilkan nilai slider\n",
    "        self.label = QLabel(\"Nilai: 0\", self)\n",
    "        self.label.setAlignment(Qt.AlignCenter)  # Teks berada di tengah\n",
    "        self.label.setStyleSheet(\"font-size: 16px;\")\n",
    "        layout.addWidget(self.label)\n",
    "\n",
    "        # Slider horizontal\n",
    "        self.slider = QSlider(Qt.Horizontal, self)  # Membuat slider horizontal\n",
    "        self.slider.setMinimum(0)  # Nilai minimum\n",
    "        self.slider.setMaximum(100)  # Nilai maksimum\n",
    "        self.slider.setValue(0)  # Nilai awal\n",
    "        self.slider.setTickPosition(QSlider.TicksBelow)  # Menampilkan garis kecil di bawah\n",
    "        self.slider.setTickInterval(10)  # Interval garis kecil\n",
    "        self.slider.valueChanged.connect(self.on_value_change)  # Sambungkan ke fungsi\n",
    "        layout.addWidget(self.slider)\n",
    "\n",
    "        # Atur layout ke widget\n",
    "        self.setLayout(layout)\n",
    "        self.setWindowTitle(\"Contoh Horizontal Slider\")\n",
    "        self.setGeometry(100, 100, 400, 200)\n",
    "\n",
    "    def on_value_change(self, value):\n",
    "        \"\"\"\n",
    "        Fungsi untuk menangani perubahan nilai slider.\n",
    "        \"\"\"\n",
    "        self.label.setText(f\"Nilai: {value}\")\n",
    "\n",
    "# Main aplikasi\n",
    "if __name__ == \"__main__\":\n",
    "    app = QApplication(sys.argv)\n",
    "    example = HorizontalSliderExample()\n",
    "    example.show()\n",
    "    sys.exit(app.exec_())\n"
   ]
  }
 ],
 "metadata": {
  "kernelspec": {
   "display_name": "Python 3",
   "language": "python",
   "name": "python3"
  },
  "language_info": {
   "codemirror_mode": {
    "name": "ipython",
    "version": 3
   },
   "file_extension": ".py",
   "mimetype": "text/x-python",
   "name": "python",
   "nbconvert_exporter": "python",
   "pygments_lexer": "ipython3",
   "version": "3.13.0"
  }
 },
 "nbformat": 4,
 "nbformat_minor": 2
}
